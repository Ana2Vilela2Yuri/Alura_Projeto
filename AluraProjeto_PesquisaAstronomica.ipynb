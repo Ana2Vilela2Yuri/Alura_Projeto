{
  "nbformat": 4,
  "nbformat_minor": 0,
  "metadata": {
    "colab": {
      "provenance": [],
      "authorship_tag": "ABX9TyMVBlPmxv7qyze18srlIueo",
      "include_colab_link": true
    },
    "kernelspec": {
      "name": "python3",
      "display_name": "Python 3"
    },
    "language_info": {
      "name": "python"
    }
  },
  "cells": [
    {
      "cell_type": "markdown",
      "metadata": {
        "id": "view-in-github",
        "colab_type": "text"
      },
      "source": [
        "<a href=\"https://colab.research.google.com/github/Ana2Vilela2Yuri/Alura_aula4/blob/main/AluraProjeto_PesquisaAstronomica.ipynb\" target=\"_parent\"><img src=\"https://colab.research.google.com/assets/colab-badge.svg\" alt=\"Open In Colab\"/></a>"
      ]
    },
    {
      "cell_type": "code",
      "execution_count": 1,
      "metadata": {
        "colab": {
          "base_uri": "https://localhost:8080/"
        },
        "id": "OylbjyXeG8q_",
        "outputId": "ee99cecd-9a15-4b1a-bfae-c9746bb7547a"
      },
      "outputs": [
        {
          "output_type": "stream",
          "name": "stdout",
          "text": [
            "\n",
            "Usage:   \n",
            "  pip3 install [options] <requirement specifier> [package-index-options] ...\n",
            "  pip3 install [options] -r <requirements file> [package-index-options] ...\n",
            "  pip3 install [options] [-e] <vcs project url> ...\n",
            "  pip3 install [options] [-e] <local project path> ...\n",
            "  pip3 install [options] <archive url/path> ...\n",
            "\n",
            "no such option: -u\n"
          ]
        }
      ],
      "source": [
        "!pip install -q -u google-generativeai"
      ]
    },
    {
      "cell_type": "code",
      "source": [
        "import google.generativeai as genai\n",
        "\n",
        "from google.colab import userdata\n",
        "API_key = userdata.get(\"segredo\")\n",
        "\n",
        "genai.configure(api_key=API_key)"
      ],
      "metadata": {
        "id": "yAZdqsHpHF2x"
      },
      "execution_count": 4,
      "outputs": []
    },
    {
      "cell_type": "code",
      "source": [
        "generation_config = {\n",
        "    \"candidate_count\": 1,\n",
        "    \"temperature\": 0.5,\n",
        "}"
      ],
      "metadata": {
        "id": "BOUKafhvHsDE"
      },
      "execution_count": 5,
      "outputs": []
    },
    {
      "cell_type": "code",
      "source": [
        "safety_settings = {\n",
        "    \"HARASSMENT\": \"BLOCK_NONE\",\n",
        "    \"HATE\": \"BLOCK_NONE\",\n",
        "    \"SEXUAL\": \"BLOCK_NONE\",\n",
        "    \"DANGEROUS\": \"BLOCK_NONE\",\n",
        "}"
      ],
      "metadata": {
        "id": "i_iw9vuzIVV_"
      },
      "execution_count": 10,
      "outputs": []
    },
    {
      "cell_type": "code",
      "source": [
        "model = genai.GenerativeModel(model_name=\"gemini-1.0-pro\",\n",
        "                              generation_config=generation_config,\n",
        "                              safety_settings=safety_settings)"
      ],
      "metadata": {
        "id": "NbRunZQ_IyDh"
      },
      "execution_count": 11,
      "outputs": []
    },
    {
      "cell_type": "code",
      "source": [
        "system_instruction = \"Você é um astrônomo profissional. Forneça informações específicas sobre um objeto astronômico. Dê detalhes como: características físicas (tamanho, massa, temperatura, magnitude), localização no espaço (coordenadas celestes, distância da Terra), composição química, efeito no ambiente circundante (gravidade, influência em outras estrelas ou corpos celestes) e uma descrição sobre esse objeto (oque ele é, sua origem, etc.)\""
      ],
      "metadata": {
        "id": "As6iuNohJBGA"
      },
      "execution_count": 12,
      "outputs": []
    },
    {
      "cell_type": "code",
      "source": [
        "chat = model.start_chat(history=[])"
      ],
      "metadata": {
        "id": "sIj2sbPgJbtp"
      },
      "execution_count": 13,
      "outputs": []
    },
    {
      "cell_type": "code",
      "source": [
        "def exibir_menu(): #definção do menu.\n",
        "    print(\"--- Menu ---\")\n",
        "    print(\"1. Informações sobre objetos astronômicos\")\n",
        "    print(\"2. Calendário astronômico\")\n",
        "    print(\"0. Sair\")\n",
        "    #opções pro usuário escolher.\n",
        "\n",
        "def solicitar_informacoes():\n",
        "    print(\"------------\")\n",
        "    objeto_astronomico = input(\"Digite o nome do objeto astronômico sobre o qual deseja obter informações: \")\n",
        "    print(\"------------\")\n",
        "    return objeto_astronomico\n",
        "\n",
        "# Função para solicitar detalhes sobre um objeto astronômico e retornar um prompt\n",
        "def gerar_prompt(objeto_astronomico):\n",
        "    prompt_astro = [\n",
        "        f\"Objeto Astronômico: {objeto_astronomico}\",\n",
        "        f\"Forneça informações específicas sobre o objeto astronômico.\",\n",
        "        f\"Detalhes incluem:\",\n",
        "        f\"Características físicas (tamanho, massa, temperatura, magnitude)\",\n",
        "        f\"Localização no espaço (coordenadas celestes, distância da Terra)\",\n",
        "        f\"Composição química\",\n",
        "        f\"Efeito no ambiente circundante (gravidade, influência em outras estrelas ou corpos celestes)\"\n",
        "        f\"Descrição sobre objeto astronômico.\"\n",
        "    ]\n",
        "    return prompt_astro\n",
        "\n",
        "# Função para solicitar informações sobre o calendário astronomico.\n",
        "def solicitar_ano():\n",
        "    print()\n",
        "    ano_astro = input(\"Digite o ano que deseja visualizar o calendário: \")\n",
        "    print(\"------------\")\n",
        "    return ano_astro\n",
        "\n",
        "# Função para solicitar detalhes sobre um objeto astronômico e retornar um prompt\n",
        "def gerar_ano(ano_astro):\n",
        "    prompt_fenomeno = [\n",
        "        f\"Ano: {ano_astro}\",\n",
        "        f\"Forneça o calendário astronômico do ano de {ano_astro}.\",\n",
        "        \"Detalhes incluem:\",\n",
        "        \"Data em que o fenômeno ocorreu (dia, mês)\",\n",
        "        \"Horário em que o fenômeno se inicia\",\n",
        "        \"Horário em que o fenômeno se encerra\",\n",
        "        \"Ponto de referência no céu para melhor observação (constelação próxima do fenômeno, estrela próxima, etc.)\"\n",
        "    ]\n",
        "    return prompt_fenomeno\n",
        "\n",
        "while True:\n",
        "    exibir_menu()\n",
        "    print(\"------------\")\n",
        "    opcao = int(input('Escolha uma opção: '))\n",
        "    print()\n",
        "\n",
        "    if opcao == 1: #se a opção escolhida for 1...\n",
        "        objeto_escolhido = solicitar_informacoes() # Solicita o produto que o usuário deseja consultar\n",
        "        prompt_astro = gerar_prompt(objeto_escolhido) # Gera o prompt com base no produto escolhido\n",
        "        response = model.generate_content(prompt_astro) # Gera a resposta do modelo com base no prompt\n",
        "        print(response.text)# Exibe a resposta do modelo\n",
        "        print()\n",
        "\n",
        "    elif opcao == 2:\n",
        "        print(\"------------\")\n",
        "        print(\"Ola, seja bem-vindo ao nosso calendario astronomico!! \\nAqui forneceremos informacoes dos fenomenos astronomicos que ocorreao ou vao ocorrer do ano desejado!\")\n",
        "        ano_desejado = solicitar_ano() # Solicita o produto que o usuário deseja consultar\n",
        "        prompt_fenomeno = gerar_ano(ano_desejado) # Gera o prompt com base no produto escolhido\n",
        "        response = model.generate_content(prompt_fenomeno) # Gera a resposta do modelo com base no prompt\n",
        "        print(response.text) # Exibe a resposta do modelo\n",
        "        print()\n",
        "\n",
        "    elif opcao == 0: #se a opção 0 for escolhida o código vai \"quebrar\" o loop do while.\n",
        "        print(\"Saindo do programa...\")\n",
        "        break\n",
        "\n",
        "    else: #caso for digitado outro numero que não tenha na lista, o código ira dar erro.\n",
        "        print(\"Erro, opcao invalida!!!\")"
      ],
      "metadata": {
        "colab": {
          "base_uri": "https://localhost:8080/",
          "height": 1000
        },
        "id": "LAHtzq4EJdXx",
        "outputId": "f0fb3be1-9118-40a6-9328-90e5abfdbdaa"
      },
      "execution_count": 53,
      "outputs": [
        {
          "output_type": "stream",
          "name": "stdout",
          "text": [
            "--- Menu ---\n",
            "1. Informações sobre objetos astronômicos\n",
            "2. Calendário astronômico\n",
            "0. Sair\n",
            "------------\n",
            "Escolha uma opção: 1\n",
            "\n",
            "------------\n",
            "Digite o nome do objeto astronômico sobre o qual deseja obter informações: Antares\n",
            "------------\n",
            "**Antares**\n",
            "\n",
            "**Características Físicas:**\n",
            "\n",
            "* Tipo: Supergigante vermelha\n",
            "* Tamanho: 700 vezes o diâmetro do Sol\n",
            "* Massa: 12-15 massas solares\n",
            "* Temperatura superficial: 3.500-3.600 K\n",
            "* Magnitude aparente: 0,92 (a 15ª estrela mais brilhante no céu noturno)\n",
            "\n",
            "**Localização no Espaço:**\n",
            "\n",
            "* Coordenadas celestes: Ascensão Reta: 16h 29m 24s; Declinação: -26° 25' 55\"\n",
            "* Distância da Terra: Aproximadamente 550 anos-luz\n",
            "\n",
            "**Composição Química:**\n",
            "\n",
            "* Hidrogênio (abundante na superfície)\n",
            "* Hélio\n",
            "* Elementos mais pesados (como ferro, silício e oxigênio)\n",
            "\n",
            "**Efeito no Ambiente Circundante:**\n",
            "\n",
            "* **Gravidade:** A enorme gravidade de Antares afeta as estrelas e outros objetos celestes próximos.\n",
            "* **Influência em outras estrelas:** Antares é um membro de um aglomerado aberto chamado Escorpião OB1. Sua radiação e ventos estelares podem influenciar a formação e evolução das outras estrelas no aglomerado.\n",
            "* **Nebulosa de Emissão:** Antares é cercada por uma nebulosa de emissão vermelha conhecida como Nebulosa de Antares. Esta nebulosa é formada pelos ventos estelares da estrela, que ionizam o gás interestelar.\n",
            "\n",
            "**Descrição:**\n",
            "\n",
            "Antares é uma estrela supergigante vermelha localizada na constelação de Escorpião. É uma das estrelas mais brilhantes e icônicas do céu noturno. Antares está no fim de sua vida e está se expandindo e esfriando gradualmente. Espera-se que ela exploda como uma supernova nos próximos milhões de anos.\n",
            "\n",
            "--- Menu ---\n",
            "1. Informações sobre objetos astronômicos\n",
            "2. Calendário astronômico\n",
            "0. Sair\n",
            "------------\n",
            "Escolha uma opção: 2\n",
            "\n",
            "------------\n",
            "Ola, seja bem-vindo ao nosso calendario astronomico!! \n",
            "Aqui forneceremos informacoes dos fenomenos astronomicos que ocorreao ou vao ocorrer do ano desejado!\n",
            "\n",
            "Digite o ano que deseja visualizar o calendário: 2024\n",
            "------------\n",
            "**Eclipses**\n",
            "\n",
            "* **Eclipse Solar Anular:**\n",
            "    * 8 de abril de 2024\n",
            "    * Início: 13h14 UTC\n",
            "    * Máximo: 14h28 UTC\n",
            "    * Fim: 15h42 UTC\n",
            "    * Ponto de referência: Constelação de Áries\n",
            "* **Eclipse Lunar Penumbral:**\n",
            "    * 25 de outubro de 2024\n",
            "    * Início: 08h22 UTC\n",
            "    * Máximo: 10h31 UTC\n",
            "    * Fim: 12h39 UTC\n",
            "    * Ponto de referência: Constelação de Touro\n",
            "\n",
            "**Equinócios e Solstícios**\n",
            "\n",
            "* **Equinócio de Primavera no Hemisfério Norte:**\n",
            "    * 20 de março de 2024\n",
            "    * 09h54 UTC\n",
            "* **Solstício de Verão no Hemisfério Norte:**\n",
            "    * 21 de junho de 2024\n",
            "    * 01h54 UTC\n",
            "* **Equinócio de Outono no Hemisfério Norte:**\n",
            "    * 23 de setembro de 2024\n",
            "    * 03h50 UTC\n",
            "* **Solstício de Inverno no Hemisfério Norte:**\n",
            "    * 22 de dezembro de 2024\n",
            "    * 09h19 UTC\n",
            "\n",
            "**Conjunções de Planetas**\n",
            "\n",
            "* **Conjunção Vênus-Júpiter:**\n",
            "    * 2 de março de 2024\n",
            "    * Ponto de referência: Constelação de Peixes\n",
            "* **Conjunção Marte-Saturno:**\n",
            "    * 27 de junho de 2024\n",
            "    * Ponto de referência: Constelação de Capricórnio\n",
            "* **Conjunção Vênus-Marte:**\n",
            "    * 13 de julho de 2024\n",
            "    * Ponto de referência: Constelação de Leão\n",
            "* **Conjunção Júpiter-Saturno:**\n",
            "    * 2 de novembro de 2024\n",
            "    * Ponto de referência: Constelação de Peixes\n",
            "\n",
            "**Chuvas de Meteoros**\n",
            "\n",
            "* **Quadrântidas:**\n",
            "    * Pico: 3 de janeiro de 2024\n",
            "    * Ponto de referência: Constelação de Boieiro\n",
            "* **Líridas:**\n",
            "    * Pico: 22 de abril de 2024\n",
            "    * Ponto de referência: Constelação de Lira\n",
            "* **Eta Aquáridas:**\n",
            "    * Pico: 6 de maio de 2024\n",
            "    * Ponto de referência: Constelação de Aquário\n",
            "* **Delta Aquáridas:**\n",
            "    * Pico: 30 de julho de 2024\n",
            "    * Ponto de referência: Constelação de Aquário\n",
            "* **Perseidas:**\n",
            "    * Pico: 12 de agosto de 2024\n",
            "    * Ponto de referência: Constelação de Perseu\n",
            "* **Oriônidas:**\n",
            "    * Pico: 20 de outubro de 2024\n",
            "    * Ponto de referência: Constelação de Órion\n",
            "* **Leônidas:**\n",
            "    * Pico: 17 de novembro de 2024\n",
            "    * Ponto de referência: Constelação de Leão\n",
            "* **Gemínidas:**\n",
            "    * Pico: 13 de dezembro de 2024\n",
            "    * Ponto de referência: Constelação de Gêmeos\n",
            "* **Úrsidas:**\n",
            "    * Pico: 22 de dezembro de 2024\n",
            "    * Ponto de referência: Constelação de Ursa Menor\n",
            "\n",
            "--- Menu ---\n",
            "1. Informações sobre objetos astronômicos\n",
            "2. Calendário astronômico\n",
            "0. Sair\n",
            "------------\n",
            "Escolha uma opção: 0\n",
            "\n",
            "Saindo do programa...\n"
          ]
        }
      ]
    },
    {
      "cell_type": "markdown",
      "source": [
        "Aviso, as vezes durante a execução da aplicação, a formatação dos fenômenos se desestabiliza ou ocorre um erro. É apenas um Bug, basta apenas encerrar o código e compilar de novo."
      ],
      "metadata": {
        "id": "3hu-fViemZ-m"
      }
    }
  ]
}